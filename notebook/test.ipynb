{
 "cells": [
  {
   "cell_type": "code",
   "execution_count": 1,
   "id": "cf6faed8",
   "metadata": {},
   "outputs": [],
   "source": [
    "import torchaudio\n",
    "from torchaudio.datasets import LIBRISPEECH\n",
    "\n",
    "dataset = LIBRISPEECH(root='../input', url='test-clean', download=False)"
   ]
  },
  {
   "cell_type": "code",
   "execution_count": 20,
   "id": "ac0efa44",
   "metadata": {},
   "outputs": [
    {
     "name": "stdout",
     "output_type": "stream",
     "text": [
      "Waveform shape: torch.Size([1, 34800])\n",
      "Sample rate: 16000\n",
      "Transcript: NO MORE THAN THE DANCING\n"
     ]
    }
   ],
   "source": [
    "import random\n",
    "waveform, sample_rate, transcript, _, _, _ = dataset[random.randint(0,len(dataset))]\n",
    "\n",
    "print(\"Waveform shape:\", waveform.shape) \n",
    "print(\"Sample rate:\", sample_rate)\n",
    "print(\"Transcript:\", transcript) "
   ]
  }
 ],
 "metadata": {
  "kernelspec": {
   "display_name": ".venv",
   "language": "python",
   "name": "python3"
  },
  "language_info": {
   "codemirror_mode": {
    "name": "ipython",
    "version": 3
   },
   "file_extension": ".py",
   "mimetype": "text/x-python",
   "name": "python",
   "nbconvert_exporter": "python",
   "pygments_lexer": "ipython3",
   "version": "3.9.16"
  }
 },
 "nbformat": 4,
 "nbformat_minor": 5
}
